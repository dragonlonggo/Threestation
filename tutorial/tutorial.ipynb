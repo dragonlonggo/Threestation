{
 "cells": [
  {
   "cell_type": "markdown",
   "id": "irish-basement",
   "metadata": {
    "toc": true
   },
   "source": [
    "<h1>Table of Contents<span class=\"tocSkip\"></span></h1>\n",
    "<div class=\"toc\"><ul class=\"toc-item\"><li><span><a href=\"#Ambient-noise-two-station-interferometry-($\\mathcal{I}_2^{AN}$)\" data-toc-modified-id=\"Ambient-noise-two-station-interferometry-($\\mathcal{I}_2^{AN}$)-1\">Ambient noise two-station interferometry ($\\mathcal{I}_2^{AN}$)</a></span></li><li><span><a href=\"#Motivation\" data-toc-modified-id=\"Motivation-2\">Motivation</a></span></li><li><span><a href=\"#Notation\" data-toc-modified-id=\"Notation-3\">Notation</a></span></li><li><span><a href=\"#Three-station-interferometry\" data-toc-modified-id=\"Three-station-interferometry-4\">Three-station interferometry</a></span><ul class=\"toc-item\"><li><span><a href=\"#Direct-wave-interferometry\" data-toc-modified-id=\"Direct-wave-interferometry-4.1\">Direct-wave interferometry</a></span><ul class=\"toc-item\"><li><span><a href=\"#Hyperbolic-stationary-phase-zones-($^{hyp}\\mathcal{I}_3^{DW}$)\" data-toc-modified-id=\"Hyperbolic-stationary-phase-zones-($^{hyp}\\mathcal{I}_3^{DW}$)-4.1.1\">Hyperbolic stationary phase zones ($^{hyp}\\mathcal{I}_3^{DW}$)</a></span><ul class=\"toc-item\"><li><span><a href=\"#Cut-direct-waves\" data-toc-modified-id=\"Cut-direct-waves-4.1.1.1\">Cut direct-waves</a></span></li><li><span><a href=\"#Compute-source-specific-direct-wave-correlation-$^{hyp}C_3^{DW}$\" data-toc-modified-id=\"Compute-source-specific-direct-wave-correlation-$^{hyp}C_3^{DW}$-4.1.1.2\">Compute source-specific direct-wave correlation $^{hyp}C_3^{DW}$</a></span></li><li><span><a href=\"#Stack-for-$^{hyp}\\mathcal{I}_3^{DW}$\" data-toc-modified-id=\"Stack-for-$^{hyp}\\mathcal{I}_3^{DW}$-4.1.1.3\">Stack for $^{hyp}\\mathcal{I}_3^{DW}$</a></span></li></ul></li><li><span><a href=\"#Elliptical-stationary-phase-zones-($^{ell}\\mathcal{I}_3^{DW}$)\" data-toc-modified-id=\"Elliptical-stationary-phase-zones-($^{ell}\\mathcal{I}_3^{DW}$)-4.1.2\">Elliptical stationary phase zones ($^{ell}\\mathcal{I}_3^{DW}$)</a></span><ul class=\"toc-item\"><li><span><a href=\"#Compute-source-specific-direct-wave-convolution-$^{ell}C_3^{DW}$\" data-toc-modified-id=\"Compute-source-specific-direct-wave-convolution-$^{ell}C_3^{DW}$-4.1.2.1\">Compute source-specific direct-wave convolution $^{ell}C_3^{DW}$</a></span></li><li><span><a href=\"#Stack-for-$^{ell}\\mathcal{I}_3^{DW}$\" data-toc-modified-id=\"Stack-for-$^{ell}\\mathcal{I}_3^{DW}$-4.1.2.2\">Stack for $^{ell}\\mathcal{I}_3^{DW}$</a></span></li></ul></li></ul></li><li><span><a href=\"#Coda-wave-interferometry\" data-toc-modified-id=\"Coda-wave-interferometry-4.2\">Coda-wave interferometry</a></span><ul class=\"toc-item\"><li><ul class=\"toc-item\"><li><span><a href=\"#Cut-coda-waves\" data-toc-modified-id=\"Cut-coda-waves-4.2.0.1\">Cut coda-waves</a></span></li><li><span><a href=\"#Compute-source-specific-coda-wave-correlation-$C_3^{CW}$\" data-toc-modified-id=\"Compute-source-specific-coda-wave-correlation-$C_3^{CW}$-4.2.0.2\">Compute source-specific coda-wave correlation $C_3^{CW}$</a></span></li><li><span><a href=\"#Stack-for-$\\mathcal{I}_3^{CW}$\" data-toc-modified-id=\"Stack-for-$\\mathcal{I}_3^{CW}$-4.2.0.3\">Stack for $\\mathcal{I}_3^{CW}$</a></span></li></ul></li></ul></li></ul></li><li><span><a href=\"#Reference\" data-toc-modified-id=\"Reference-5\">Reference</a></span></li><li><span><a href=\"#Helper-functions\" data-toc-modified-id=\"Helper-functions-6\">Helper functions</a></span></li></ul></div>"
   ]
  },
  {
   "cell_type": "markdown",
   "id": "rapid-briefing",
   "metadata": {},
   "source": [
    "<h2 style=\"text-align: center\"><span class=\"tocSkip\"></span>2021 Lamont-Doherty Seismology Student Workshop IX</h2>\n",
    "<h1 style=\"text-align: center\"><span class=\"tocSkip\"></span>Live Demonstration on Three-Station Interferometry</h1>\n",
    "<h2 style=\"text-align: center\"><span class=\"tocSkip\"></span>Shane Zhang*</h2>\n",
    "<h3 style=\"text-align: center\"><span class=\"tocSkip\"></span>University of Colorado Boulder</h3>\n",
    "<h3 style=\"text-align: center\"><span class=\"tocSkip\"></span>March 24th, 2021</h3>\n",
    "<h4 style=\"text-align: center\"><span class=\"tocSkip\"></span><a href=\"mailto:shzh3924@colorado.edu\">*shzh3924@colorado.edu</a></h4>"
   ]
  },
  {
   "cell_type": "markdown",
   "id": "ethical-walker",
   "metadata": {},
   "source": [
    "First, let's import and run the Helper Functions at the bottom.\n",
    "\n",
    "We will use `Jupyter Notebook` and `ObsPy` heavily so the first Live Demo may be helpful if you are not familiar with them."
   ]
  },
  {
   "cell_type": "code",
   "execution_count": 13,
   "id": "motivated-quantity",
   "metadata": {},
   "outputs": [],
   "source": [
    "from os.path import join\n",
    "\n",
    "import matplotlib.pyplot as plt\n",
    "import numpy as np\n",
    "import obspy\n",
    "from obspy import read, Stream, Trace, UTCDateTime\n",
    "from obspy.signal.cross_correlation import correlate\n",
    "from obspy.geodetics.base import gps2dist_azimuth\n",
    "import pandas as pd\n",
    "\n",
    "\n",
    "plt.rcParams.update({\n",
    "    'figure.dpi': 200,\n",
    "})\n",
    "\n",
    "\n",
    "DATADIR = './data'"
   ]
  },
  {
   "cell_type": "markdown",
   "id": "included-motion",
   "metadata": {},
   "source": [
    "## Ambient noise two-station interferometry ($\\mathcal{I}_2^{AN}$)\n",
    "\n",
    "Let's recall the basic idea of ambient noise two-station interferometry (sometimes also called \"ambient noise interferometry\" or \"ambient noise correlation\").\n",
    "\n",
    "You can learn the practical processing to produce two-station interferograms from the raw data in the fourth Live Demo on `MSNoise` later today."
   ]
  },
  {
   "cell_type": "markdown",
   "id": "lucky-eclipse",
   "metadata": {},
   "source": [
    "<figure>\n",
    "    <img src=\"figs/ZFR20_3b.png\" class=\"center\" style=\"width:50%\">\n",
    "    <figcaption><b>Fig: Schematic of ambient noise two-station interferometry.</b> The two receivers are shown with the blue and green triangles, and the circles are locations of noise sources. Those sources that are in the stationary phase zones (shaded region) are shown with red circles and those outside the stationary phase zones with gray circles.</figcaption>\n",
    "</figure>"
   ]
  },
  {
   "cell_type": "markdown",
   "id": "ambient-pierce",
   "metadata": {},
   "source": [
    "Let's read the metadata of the stations we are going to use."
   ]
  },
  {
   "cell_type": "code",
   "execution_count": 5,
   "id": "registered-basin",
   "metadata": {},
   "outputs": [],
   "source": [
    "meta = pd.read_csv(join(DATADIR, 'meta.csv'))\n",
    "# meta"
   ]
  },
  {
   "cell_type": "markdown",
   "id": "geological-raleigh",
   "metadata": {},
   "source": [
    "Here we choose two stations as \"receiver-stations\", and all other stations as \"source-stations\". \n",
    "\n",
    "The two receiver-stations are chosen to be **synchronous** so that we have two-station interferograms ($\\mathcal{I}_2^{AN}$) between them to compare with three-station interferograms ($\\mathcal{I}_3$)."
   ]
  },
  {
   "cell_type": "code",
   "execution_count": 8,
   "id": "received-crisis",
   "metadata": {},
   "outputs": [
    {
     "data": {
      "image/png": "[encoded data removed]",
      "text/plain": [
       "<Figure size 1280x960 with 1 Axes>"
      ]
     },
     "metadata": {},
     "output_type": "display_data"
    }
   ],
   "source": [
    "rec_sta_1 = 'M07A'\n",
    "rec_sta_2 = 'M15A'\n",
    "\n",
    "lon_r1 = meta[meta['sta'] == rec_sta_1]['lon'].iloc[0]\n",
    "lat_r1 = meta[meta['sta'] == rec_sta_1]['lat'].iloc[0]\n",
    "lon_r2 = meta[meta['sta'] == rec_sta_2]['lon'].iloc[0]\n",
    "lat_r2 = meta[meta['sta'] == rec_sta_2]['lat'].iloc[0]\n",
    "\n",
    "\n",
    "fig, ax = plt.subplots()\n",
    "ax.scatter(meta['lon'], meta['lat'], s=5, marker='o', c='r')\n",
    "for s in [rec_sta_1, rec_sta_2]:\n",
    "    m = meta[meta.sta == s]\n",
    "    ax.scatter(m['lon'], m['lat'], s=20, marker='^', c='b')"
   ]
  },
  {
   "cell_type": "markdown",
   "id": "lucky-placement",
   "metadata": {},
   "source": [
    "For each of the receiver station, we plot the two-station interferograms $\\mathcal{I}_2^{AN}$ between it and the source-stations, which serves as the basis for three-station interferometry."
   ]
  },
  {
   "cell_type": "code",
   "execution_count": 14,
   "id": "comparative-strength",
   "metadata": {},
   "outputs": [
    {
     "ename": "NameError",
     "evalue": "name 'sort_stream' is not defined",
     "output_type": "error",
     "traceback": [
      "\u001b[1;31m---------------------------------------------------------------------------\u001b[0m",
      "\u001b[1;31mNameError\u001b[0m                                 Traceback (most recent call last)",
      "Cell \u001b[1;32mIn[14], line 11\u001b[0m\n\u001b[0;32m      8\u001b[0m         tr\u001b[38;5;241m.\u001b[39mstats\u001b[38;5;241m.\u001b[39mdistance \u001b[38;5;241m=\u001b[39m tr\u001b[38;5;241m.\u001b[39mstats\u001b[38;5;241m.\u001b[39msac\u001b[38;5;241m.\u001b[39mdist \u001b[38;5;241m*\u001b[39m \u001b[38;5;241m1e3\u001b[39m\n\u001b[0;32m      9\u001b[0m         tr\u001b[38;5;241m.\u001b[39mstats\u001b[38;5;241m.\u001b[39mstarttime \u001b[38;5;241m=\u001b[39m t0\n\u001b[1;32m---> 11\u001b[0m I2_r1 \u001b[38;5;241m=\u001b[39m \u001b[43msort_stream\u001b[49m(I2_r1, \u001b[38;5;124m'\u001b[39m\u001b[38;5;124mdist\u001b[39m\u001b[38;5;124m'\u001b[39m)\n\u001b[0;32m     12\u001b[0m I2_r2 \u001b[38;5;241m=\u001b[39m sort_stream(I2_r2, \u001b[38;5;124m'\u001b[39m\u001b[38;5;124mdist\u001b[39m\u001b[38;5;124m'\u001b[39m)\n\u001b[0;32m     14\u001b[0m \u001b[38;5;28;01mfor\u001b[39;00m I2 \u001b[38;5;129;01min\u001b[39;00m [I2_r1, I2_r2]:\n\u001b[0;32m     15\u001b[0m     \n\u001b[0;32m     16\u001b[0m \u001b[38;5;66;03m#     I2.filter('bandpass', freqmax=1/20, freqmin=1/50, zerophase=True)\u001b[39;00m\n",
      "\u001b[1;31mNameError\u001b[0m: name 'sort_stream' is not defined"
     ]
    }
   ],
   "source": [
    "I2_r1 = obspy.read(join(DATADIR, 'I2', rec_sta_1, '*.SAC'))\n",
    "I2_r2 = obspy.read(join(DATADIR, 'I2', rec_sta_2, '*.SAC'))\n",
    "\n",
    "t0 = UTCDateTime('2021-03-24T00:00:00')\n",
    "\n",
    "for I2 in [I2_r1, I2_r2]:\n",
    "    for tr in I2:\n",
    "        tr.stats.distance = tr.stats.sac.dist * 1e3\n",
    "        tr.stats.starttime = t0\n",
    "\n",
    "I2_r1 = sort_stream(I2_r1, 'dist')\n",
    "I2_r2 = sort_stream(I2_r2, 'dist')\n",
    "\n",
    "for I2 in [I2_r1, I2_r2]:\n",
    "    \n",
    "#     I2.filter('bandpass', freqmax=1/20, freqmin=1/50, zerophase=True)\n",
    "\n",
    "    fig = I2[::40].plot(\n",
    "        type='section', orientation='horizontal', dpi=200,\n",
    "        reftime=t0+3000, recordstart=-1000, recordlength=2000,\n",
    "        linewidth=.5, alpha=1, grid_linewidth=0, scale=.5,\n",
    "#         offset_min=0, offset_max=1500e3,\n",
    "    )"
   ]
  },
  {
   "cell_type": "markdown",
   "id": "least-scroll",
   "metadata": {},
   "source": [
    "## Motivation\n",
    "\n",
    "The development of three-station interferometry was motivated by the limitation of two-station interferometry ($\\mathcal{I}_2^{AN}$):\n",
    "- $\\mathcal{I}_2^{AN}$ works iff two stations are deployed at the same time (synchronously), i.e., it does not work if two stations are deployed at different times (*asynchronously*).\n",
    "- $\\mathcal{I}_2^{AN}$ effectively accentuates coherent signals in the ambient noise via correlation, however, weak but useful signals could be hidden in $\\mathcal{I}_2^{AN}$ and are discarded later (e.g., due to low signal-to-noise ratio (SNR) especially at long periods).\n",
    "- The coda-wave part of $\\mathcal{I}_2^{AN}$ is not used for imaging.\n",
    "\n",
    "While two-station interferometry ($\\mathcal{I}_2^{AN}$) is well-established, three-station interferometry is still under rapid development but seems to receive more attention recently. Thus, this demo is intended to be **exploratory** and to give you a clear description of the basic idea. Those of you who are interested are encouraged to try the method in your own study.\n",
    "\n",
    "For clarity, we will present the development in **logical** (from my perspective) rather than historical order. A more thorough overview of the literature can be found in the Reference."
   ]
  },
  {
   "cell_type": "markdown",
   "id": "clean-volunteer",
   "metadata": {},
   "source": [
    "<figure>\n",
    "    <img src=\"figs/ZFR20_1.png\" class=\"center\" style=\"width:100%\">\n",
    "    <figcaption><b>Fig: Notation for interferometry.</b> (a) Two-station interferometry. $C_2(r_i, r_j)$ is the cross-correlation between processed\n",
    "seismograms recorded at receiver-stations $r_i$ and $r_j$. The two-station estimated Green's function, $\\hat G_2(r_i,r_j)$, can be\n",
    "determined from $C_2$ after applying an appropriate phase shift. Receiver-stations $r_i$ and $r_j$ must operate synchronously.\n",
    "(b) Three-station interferometry. Cross-correlations between\n",
    "seismograms recorded at each source-station, $s_k$, with records at receiver-stations, $r_i$ and $r_j$,\n",
    "are denoted $C_2(s_k, r_i)$ and $C_2(s_k, r_j)$. Direct-wave or coda-wave parts of these records are cross-correlated or\n",
    "convolved to measure the source-specific interferogram, $C_3(r_i, r_j; s_k)$, which can be summed over contributions from many source-stations to produce the three-station\n",
    "composite Green's function, $\\hat G_3(r_i,r_j)$, between the receiver-stations. Receiver-stations $r_i$ and $r_j$ need not operate\n",
    "synchronously with one another, but both must overlap the operation of each source-station.</figcaption>\n",
    "</figure>"
   ]
  },
  {
   "cell_type": "markdown",
   "id": "suspended-taxation",
   "metadata": {},
   "source": [
    "## Notation\n",
    "\n",
    "- $\\mathcal{I}_2^{AN}$: Two-station ambient noise interferometry.\n",
    "- $C_3$: Source-specific three-station interferogram.\n",
    "- ${}^{geometry}\\mathcal{I}_3^{type}$: Stack of source-specific three-station interferograms using data **type** with **geometry** constraints on source-stations.\n",
    "    - $^{hyp}\\mathcal{I}_3^{DW}$: Three-station **direct-wave** interferometry with source-stations in the **hyperbolic** stationary phase zones radially outside the receiver stations.\n",
    "    - $^{ell}\\mathcal{I}_3^{DW}$:  Three-station **direct-wave** interferometry with source-stations in the **elliptical** stationary phase zone between the receiver stations.\n",
    "    - $\\mathcal{I}_3^{CW}$: Three-station **coda-wave** interferometry."
   ]
  },
  {
   "cell_type": "markdown",
   "id": "happy-thought",
   "metadata": {},
   "source": [
    "## Three-station interferometry\n",
    "\n",
    "The recipe to produce $\\mathcal{I}_3$:\n",
    "1. Prepare two-station interferogram $\\mathcal{I}_2$ (cut signals, preprocess, etc.).\n",
    "- For each source-station common to a pair of receirve-station, compute source-specific three-station interferogram $C_3$.\n",
    "- Stack source-specific interferogram $C_3$ to constrcut $\\mathcal{I}_3$.\n",
    "\n",
    "For simplicity, we consider only the **symmetric** components of correlations (the average of positive and negative lags). A direct implication is that we can not say that the source distribution becomes more isotropic for $\\mathcal{I}_3$ if the resultant $\\mathcal{I}_3$ is more symmetric, because the positive and negative lags have different source sensitivities.\n",
    "\n",
    "To be more specific, let $P_i$ denote the positive lag of the correlation between a source-station and a receiver-station $i$, and let $N_i$ denote the *time-reversed* negative lag. Then the operator $\\star$ (correlation or convolution) acting on the symmetric components yields\n",
    "\n",
    "$$\n",
    "(P_{a} + N_{a}) \\star (P_{b} + N_{b})\n",
    "= \\underbrace{P_{a} \\star P_{b} + N_{a} \\star N_{b}}_{\\text{Same lag}}\n",
    "+ \\underbrace{P_{a} \\star N_{b} + N_{a} \\star P_{b}}_{\\text{Cross lag}}\n",
    "$$"
   ]
  },
  {
   "cell_type": "code",
   "execution_count": 2,
   "id": "tough-economy",
   "metadata": {},
   "outputs": [
    {
     "ename": "NameError",
     "evalue": "name 'I2_r1' is not defined",
     "output_type": "error",
     "traceback": [
      "\u001b[1;31m---------------------------------------------------------------------------\u001b[0m",
      "\u001b[1;31mNameError\u001b[0m                                 Traceback (most recent call last)",
      "Cell \u001b[1;32mIn[2], line 4\u001b[0m\n\u001b[0;32m      1\u001b[0m src_to_I2_r1 \u001b[38;5;241m=\u001b[39m {}\n\u001b[0;32m      2\u001b[0m src_to_I2_r2 \u001b[38;5;241m=\u001b[39m {}\n\u001b[0;32m      3\u001b[0m \u001b[38;5;28;01mfor\u001b[39;00m I2, s2r, ri \u001b[38;5;129;01min\u001b[39;00m \u001b[38;5;28mzip\u001b[39m(\n\u001b[1;32m----> 4\u001b[0m     [\u001b[43mI2_r1\u001b[49m, I2_r2],\n\u001b[0;32m      5\u001b[0m     [src_to_I2_r1, src_to_I2_r2],\n\u001b[0;32m      6\u001b[0m     [rec_sta_1, rec_sta_2],\n\u001b[0;32m      7\u001b[0m ):\n\u001b[0;32m      8\u001b[0m     \u001b[38;5;28;01mfor\u001b[39;00m tr \u001b[38;5;129;01min\u001b[39;00m I2:\n\u001b[0;32m      9\u001b[0m         tmp \u001b[38;5;241m=\u001b[39m symmetrize(tr)\n",
      "\u001b[1;31mNameError\u001b[0m: name 'I2_r1' is not defined"
     ]
    }
   ],
   "source": [
    "src_to_I2_r1 = {}\n",
    "src_to_I2_r2 = {}\n",
    "for I2, s2r, ri in zip(\n",
    "    [I2_r1, I2_r2],\n",
    "    [src_to_I2_r1, src_to_I2_r2],\n",
    "    [rec_sta_1, rec_sta_2],\n",
    "):\n",
    "    for tr in I2:\n",
    "        tmp = symmetrize(tr)\n",
    "        src = (set([tr.stats.sac.kevnm.strip(), tr.stats.sac.kstnm.strip()]) - set([ri])).pop()\n",
    "        s2r[src] = tmp\n",
    "    \n",
    "for s2r in [src_to_I2_r1, src_to_I2_r2]:\n",
    "    _I2 = Stream(s2r.values())\n",
    "    fig = _I2[::40].plot(\n",
    "        type='section', orientation='horizontal', recordlength=1000, dpi=200,\n",
    "        linewidth=.5, alpha=1, grid_linewidth=0, sclae=.5,\n",
    "#         offset_min=0, offset_max=1500e3,\n",
    "    )"
   ]
  },
  {
   "cell_type": "markdown",
   "id": "naval-passion",
   "metadata": {},
   "source": [
    "### Direct-wave interferometry\n",
    "\n",
    "As will be clear later, the most important difference comes from which part of the data do we choose as signal, i.e., direct- vs. coda-waves. By drawing analogy with $\\mathcal{I}_2^{AN}$, the direct-wave part seems to be a more natural choice.\n",
    "\n",
    "#### Hyperbolic stationary phase zones ($^{hyp}\\mathcal{I}_3^{DW}$)\n",
    "\n",
    "Again borrowing insights from $\\mathcal{I}_2^{AN}$, we know that not all source-stations (noise sources) are created equal. For the correlation, only sources in a hyperbolic stationary phase zone make the dominant contribution. The method $^{hyp}\\mathcal{I}_3^{DW}$ is so similar to $\\mathcal{I}_2^{AN}$ that we could reinterpret the schematic for $\\mathcal{I}_2^{AN}$."
   ]
  },
  {
   "cell_type": "markdown",
   "id": "floating-sellers",
   "metadata": {},
   "source": [
    "<figure>\n",
    "    <img src=\"figs/ZFR20_3b2.png\" class=\"center\" style=\"width:50%\">\n",
    "    <figcaption><b>Fig: Schematic of the geometrical constraints on source–stations for $^{hyp}\\mathcal{I}_3^{DW}$. </b>Similar to the schematic for $\\mathcal{I}_2^{AN}$, except circles now represent <b>source-stations</b>. For $^{hyp}\\mathcal{I}_3^{DW}$, source–stations must lie in stationary phase hyperbolae (purple shading). </figcaption>\n",
    "</figure>"
   ]
  },
  {
   "cell_type": "markdown",
   "id": "quantitative-samoa",
   "metadata": {},
   "source": [
    "##### Cut direct-waves\n",
    "\n",
    "Now let's do the first step, to cut direct-waves in two-station interferograms $\\mathcal{I}_2$. "
   ]
  },
  {
   "cell_type": "code",
   "execution_count": 1,
   "id": "frozen-legislature",
   "metadata": {},
   "outputs": [
    {
     "ename": "NameError",
     "evalue": "name 'src_to_I2_r1' is not defined",
     "output_type": "error",
     "traceback": [
      "\u001b[1;31m---------------------------------------------------------------------------\u001b[0m",
      "\u001b[1;31mNameError\u001b[0m                                 Traceback (most recent call last)",
      "Cell \u001b[1;32mIn[1], line 1\u001b[0m\n\u001b[1;32m----> 1\u001b[0m src_to_I2_r1_dw \u001b[38;5;241m=\u001b[39m {src: cut_signal(tr) \u001b[38;5;28;01mfor\u001b[39;00m src, tr \u001b[38;5;129;01min\u001b[39;00m \u001b[43msrc_to_I2_r1\u001b[49m\u001b[38;5;241m.\u001b[39mitems()}\n\u001b[0;32m      2\u001b[0m src_to_I2_r2_dw \u001b[38;5;241m=\u001b[39m {src: cut_signal(tr) \u001b[38;5;28;01mfor\u001b[39;00m src, tr \u001b[38;5;129;01min\u001b[39;00m src_to_I2_r2\u001b[38;5;241m.\u001b[39mitems()}\n\u001b[0;32m      4\u001b[0m \u001b[38;5;28;01mfor\u001b[39;00m s2r \u001b[38;5;129;01min\u001b[39;00m [src_to_I2_r1_dw, src_to_I2_r2_dw]:\n",
      "\u001b[1;31mNameError\u001b[0m: name 'src_to_I2_r1' is not defined"
     ]
    }
   ],
   "source": [
    "src_to_I2_r1_dw = {src: cut_signal(tr) for src, tr in src_to_I2_r1.items()}\n",
    "src_to_I2_r2_dw = {src: cut_signal(tr) for src, tr in src_to_I2_r2.items()}\n",
    "\n",
    "for s2r in [src_to_I2_r1_dw, src_to_I2_r2_dw]:\n",
    "    _I2 = Stream(s2r.values())\n",
    "\n",
    "#     _I2.filter('bandpass', freqmax=1/5, freqmin=1/20, zerophase=True)\n",
    "    \n",
    "    fig = _I2[::40].plot(\n",
    "        type='section', orientation='horizontal', dpi=200,\n",
    "        linewidth=.5, alpha=1, grid_linewidth=0, scale=.5, recordlength=1000,\n",
    "#         offset_min=0, offset_max=1500e3,\n",
    "    )"
   ]
  },
  {
   "cell_type": "markdown",
   "id": "aquatic-dividend",
   "metadata": {},
   "source": [
    "##### Compute source-specific direct-wave correlation $^{hyp}C_3^{DW}$\n",
    "\n",
    "Now let's do step 2: For each source-station common to a pair of receiver-stations, compute the source-specific direct-wave correlations $^{hyp}C_3^{DW}$. And plot them in a record section sorted by the source-station azimuth $\\theta$."
   ]
  },
  {
   "cell_type": "code",
   "execution_count": null,
   "id": "underlying-oliver",
   "metadata": {},
   "outputs": [],
   "source": [
    "kwargs_C3 = {\n",
    "    'meta': meta,\n",
    "    'lon_r1': lon_r1,\n",
    "    'lat_r1': lat_r1,\n",
    "    'lon_r2': lon_r2,\n",
    "    'lat_r2': lat_r2,\n",
    "    'max_theta': 8,\n",
    "}\n",
    "\n",
    "C3_all_hyp, C3_spz_hyp = source_specfic_interferometry(\n",
    "    src_to_I2_r1_dw, src_to_I2_r2_dw, **kwargs_C3\n",
    ")\n",
    "\n",
    "C3_all_hyp = sort_stream(C3_all_hyp, 'theta', sac=False)\n",
    "time = np.arange(-3000, 3001)\n",
    "ax = plt_stream_vs_theta(C3_all_hyp[::10], scale=3, time=time)\n",
    "ax.set_xlim(-1000, 1000)\n",
    "\n",
    "\n",
    "lim = kwargs_C3['max_theta']\n",
    "for theta1, theta2 in ([0, lim], [360-lim, 360], [180-lim, 180+lim]):\n",
    "    ax.axhspan(theta1, theta2, color='g', alpha=.3)\n",
    "\n",
    "\n",
    "ax = plt_mesh(C3_all_hyp, time=time)\n",
    "ax.set_xlim(-500, 500)"
   ]
  },
  {
   "cell_type": "markdown",
   "id": "several-crowd",
   "metadata": {},
   "source": [
    "##### Stack for $^{hyp}\\mathcal{I}_3^{DW}$\n",
    "\n",
    "Now the third step: Stack source-specific correlation $^{hyp}C_3^{DW}$ to constrcut $^{hyp}\\mathcal{I}_3^{DW}$.\n",
    "\n",
    "A straight-forward approach is to stack all the $^{hyp}C_3^{DW}$ where all source-stations are used. However, we learned from $\\mathcal{I}_2^{AN}$ that only sources within the stationary phase zone (SPZ) make the dominant contribution.\n",
    "\n",
    "For simplicity, the stationary phase zone is chosen to be frequency-independent: $\\theta < \\theta_0$, and the amplitude of each $C_3$ is normalized to unit before stacking."
   ]
  },
  {
   "cell_type": "code",
   "execution_count": null,
   "id": "latest-benjamin",
   "metadata": {},
   "outputs": [],
   "source": [
    "I3_all_hyp = symmetrize(stack_stream(Stream(C3_all_hyp)))\n",
    "I3_spz_hyp = symmetrize(stack_stream(Stream(C3_spz_hyp)))\n",
    "I2_ref = symmetrize(read(join(DATADIR, 'I2', rec_sta_1, f'COR_{rec_sta_1}_{rec_sta_2}.SAC'))[0])\n",
    "\n",
    "ax = plt_stack(I3_all_hyp, I3_spz_hyp, I2_ref, Tmin=5, Tmax=150)\n",
    "ax.set_title('$^{hyp}\\mathcal{I}_3^{DW}$')\n",
    "ax.set_xlim(0, 500)"
   ]
  },
  {
   "cell_type": "markdown",
   "id": "devoted-interview",
   "metadata": {},
   "source": [
    "<br>\n",
    "<br>\n",
    "<br>\n",
    "Any questions?\n",
    "<br>\n",
    "<br>\n",
    "<br>\n",
    "<br>"
   ]
  },
  {
   "cell_type": "markdown",
   "id": "ranging-drinking",
   "metadata": {},
   "source": [
    "#### Elliptical stationary phase zones ($^{ell}\\mathcal{I}_3^{DW}$)"
   ]
  },
  {
   "cell_type": "markdown",
   "id": "floating-basement",
   "metadata": {},
   "source": [
    "<figure>\n",
    "    <img src=\"figs/ZFR20_3c.png\" class=\"center\" style=\"width:50%\">\n",
    "    <figcaption><b>Fig: Schematic of the geometrical constraints on source–stations for $^{ell}\\mathcal{I}_3^{DW}$. </b>Similar to the schematic for $^{hyp}\\mathcal{I}_3^{DW}$, except source–stations must lie in stationary phase ellipses (purple shading). </figcaption>\n",
    "</figure>"
   ]
  },
  {
   "cell_type": "markdown",
   "id": "controlled-restoration",
   "metadata": {},
   "source": [
    "##### Compute source-specific direct-wave convolution $^{ell}C_3^{DW}$\n",
    "\n",
    "It turns out we could use not only correlation but also **convolution** for interferometry.\n",
    "\n",
    "For each source-station, let's compute the source-specific direct-wave convolution $^{ell}C_3^{DW}$."
   ]
  },
  {
   "cell_type": "code",
   "execution_count": null,
   "id": "opposite-defensive",
   "metadata": {},
   "outputs": [],
   "source": [
    "C3_all_ell, C3_spz_ell = source_specfic_interferometry(\n",
    "    src_to_I2_r1_dw, src_to_I2_r2_dw, meta,\n",
    "    lon_r1, lat_r1, lon_r2, lat_r2,\n",
    "    geometry='ell',\n",
    ")\n",
    "\n",
    "C3_all_ell = sort_stream(C3_all_ell, 'theta', sac=False)\n",
    "ax = plt_stream_vs_theta(C3_all_ell[::10], scale=1)\n",
    "ax.set_xlim(0, 2000)\n",
    "ax.axhspan(0, kwargs_C3['max_theta'], color='g', alpha=.3)\n",
    "\n",
    "\n",
    "ax = plt_mesh(C3_all_ell)\n",
    "ax.set_xlim(0, 1500)"
   ]
  },
  {
   "cell_type": "markdown",
   "id": "surface-finnish",
   "metadata": {},
   "source": [
    "##### Stack for $^{ell}\\mathcal{I}_3^{DW}$\n",
    "\n",
    "Let's stack source-specific convolution $^{ell}C_3^{DW}$ to construct $^{ell}\\mathcal{I}_3^{DW}$."
   ]
  },
  {
   "cell_type": "code",
   "execution_count": null,
   "id": "exact-carol",
   "metadata": {},
   "outputs": [],
   "source": [
    "I3_all_ell = stack_stream(Stream(C3_all_ell))\n",
    "I3_spz_ell = stack_stream(Stream(C3_spz_ell))\n",
    "\n",
    "ax = plt_stack(I3_all_ell, I3_spz_ell, I2_ref, scale=.5, Tmin=5, Tmax=100)\n",
    "ax.set_title('$^{ell}\\mathcal{I}_3^{DW}$')"
   ]
  },
  {
   "cell_type": "markdown",
   "id": "caring-brazil",
   "metadata": {},
   "source": [
    "### Coda-wave interferometry"
   ]
  },
  {
   "cell_type": "markdown",
   "id": "official-irish",
   "metadata": {},
   "source": [
    "<figure>\n",
    "    <img src=\"figs/ZFR20_3a.png\" class=\"center\" style=\"width:50%\">\n",
    "    <figcaption><b>Fig: Schematic of the geometrical constraints on source–stations for $\\mathcal{I}_3^{CW}$. </b>Similar to the schematic for $^{hyp}\\mathcal{I}_3^{DW}$, except there is no constraints on source–station locations.</figcaption>\n",
    "</figure>"
   ]
  },
  {
   "cell_type": "markdown",
   "id": "gentle-helen",
   "metadata": {},
   "source": [
    "##### Cut coda-waves\n",
    "\n",
    "So far, we have discarded coda-waves in $\\mathcal{I}_2^{AN}$. Noting that the nature of coda in $\\mathcal{I}_2^{AN}$ is not well understood, we try coda correlations, which is reminiscent of the earthquake coda correlation method.\n",
    "\n",
    "First, we cut only coda-waves."
   ]
  },
  {
   "cell_type": "code",
   "execution_count": null,
   "id": "prime-burns",
   "metadata": {},
   "outputs": [],
   "source": [
    "src_to_I2_r1_cw = {src: cut_signal(tr, cw=True) for src, tr in src_to_I2_r1.items()}\n",
    "src_to_I2_r2_cw = {src: cut_signal(tr, cw=True) for src, tr in src_to_I2_r2.items()}\n",
    "\n",
    "for s2r in [src_to_I2_r1_cw, src_to_I2_r2_cw]:\n",
    "    _I2 = Stream(s2r.values())\n",
    "\n",
    "#     _I2.filter('bandpass', freqmax=1/10, freqmin=1/20, zerophase=True)\n",
    "    \n",
    "    fig = _I2[::50].plot(\n",
    "        type='section', orientation='horizontal', dpi=200,\n",
    "        linewidth=.5, alpha=1, grid_linewidth=0, scale=.5,\n",
    "    )"
   ]
  },
  {
   "cell_type": "markdown",
   "id": "marine-upgrade",
   "metadata": {},
   "source": [
    "##### Compute source-specific coda-wave correlation $C_3^{CW}$\n",
    "\n",
    "Then, let's compute the source-specific coda-wave correlation $C_3^{CW}$."
   ]
  },
  {
   "cell_type": "code",
   "execution_count": null,
   "id": "applied-spencer",
   "metadata": {},
   "outputs": [],
   "source": [
    "C3_all_cw, C3_spz_cw = source_specfic_interferometry(\n",
    "    src_to_I2_r1_cw, src_to_I2_r2_cw, \n",
    "    geometry='hyp', **kwargs_C3\n",
    ")\n",
    "\n",
    "C3_all_cw = sort_stream(C3_all_cw, 'theta', sac=False)\n",
    "ax = plt_stream_vs_theta(C3_all_cw[::20], scale=5, time=time)\n",
    "ax.set_xlim(-1000, 1000)\n",
    "\n",
    "lim = kwargs_C3['max_theta']\n",
    "for theta1, theta2 in ([0, lim], [360-lim, 360], [180-lim, 180+lim]):\n",
    "    ax.axhspan(theta1, theta2, color='g', alpha=.3)\n",
    "\n",
    "\n",
    "ax = plt_mesh(C3_all_cw, time=time, Tmin=5, Tmax=100)\n",
    "ax.set_xlim(-500, 500)"
   ]
  },
  {
   "cell_type": "markdown",
   "id": "abroad-charity",
   "metadata": {},
   "source": [
    "##### Stack for $\\mathcal{I}_3^{CW}$\n",
    "\n",
    "And let's stack source-specific coda-wave correlations $C_3^{CW}$ to construct $\\mathcal{I}_3^{CW}$."
   ]
  },
  {
   "cell_type": "code",
   "execution_count": null,
   "id": "exact-mattress",
   "metadata": {},
   "outputs": [],
   "source": [
    "I3_all_cw = symmetrize(stack_stream(Stream(C3_all_cw)))\n",
    "I3_spz_cw = symmetrize(stack_stream(Stream(C3_spz_cw)))\n",
    "\n",
    "ax = plt_stack(I3_all_cw, I3_spz_cw, I2_ref, scale=.5, Tmin=5, Tmax=100)\n",
    "ax.set_title('$\\mathcal{I}_3^{CW}$')"
   ]
  },
  {
   "cell_type": "markdown",
   "id": "eight-collector",
   "metadata": {},
   "source": [
    "## Reference\n",
    "\n",
    "- Talk on applications to tomography is in 30m (**11:20 am ET**).\n",
    "- The full package: https://github.com/NoiseCIEI/ThreeStation\n",
    "- Detailed description of the method and application for isotropic structures:<br>\n",
    "Shane Zhang, Lili Feng, Michael H Ritzwoller, **Three-station interferometry and tomography: coda versus direct waves**, *Geophysical Journal International*, Volume 221, Issue 1, April 2020, Pages 521–541, https://doi.org/10.1093/gji/ggaa046\n",
    "- Improvement of the method and application for OBS and azimuthal anisotropy:<br>\n",
    "Shane Zhang, Hongda Wang, Mengyu Wu, Michael H Ritzwoller, **Isotropic and Azimuthally Anisotropic Rayleigh Wave Dispersion Across the Juan de Fuca and Gorda Plates and U.S. Cascadia from Earthquake Data and Ambient Noise Two- and Three-Station Interferometry**, *EarthArXiv*, https://doi.org/10.31223/osf.io/p4mnb\n"
   ]
  },
  {
   "cell_type": "markdown",
   "id": "stopped-disney",
   "metadata": {},
   "source": [
    "## Helper functions"
   ]
  },
  {
   "cell_type": "code",
   "execution_count": null,
   "id": "annual-frank",
   "metadata": {},
   "outputs": [],
   "source": [
    "def sort_stream(st, var='dist', sac=True):\n",
    "    \"\"\"\n",
    "    Sort a `Stream` by a header variable.\n",
    "    \"\"\"\n",
    "    if sac:\n",
    "        var_lst = [tr.stats.sac.get(var) for tr in st]\n",
    "    else:\n",
    "        var_lst = [tr.stats.get(var) for tr in st]\n",
    "\n",
    "    tmp = obspy.Stream([i for _, i in sorted(zip(var_lst, st))])\n",
    "    \n",
    "    return tmp\n",
    "\n",
    "\n",
    "def normalize(a):\n",
    "    \"\"\"\n",
    "    Normalize an array to unit.\n",
    "    \"\"\"\n",
    "    return a / np.abs(a).max()\n",
    "\n",
    "\n",
    "def _hd_sym(ref, npts):\n",
    "    \"\"\"\n",
    "    Create header for a symmetrized trace.\n",
    "    \"\"\"\n",
    "    hd = ref.copy()\n",
    "    hd.npts = npts\n",
    "    hd.starttime += hd.sac.e\n",
    "    hd.sac.b = 0\n",
    "\n",
    "    return hd\n",
    "\n",
    "\n",
    "def _data_sym(a):\n",
    "    \"\"\"\n",
    "    Return the sum of positive and negative lags.\n",
    "    \"\"\"\n",
    "    npts = len(a)\n",
    "    if npts % 2 == 0:\n",
    "        x1 = int(npts/2) - 1\n",
    "        x2 = x1 + 1\n",
    "        return (a[x1::-1] + a[x2:]) / 2\n",
    "    else:\n",
    "        half = int(npts/2)\n",
    "        return (a[half::-1] + a[half:]) / 2\n",
    "    \n",
    "    \n",
    "def symmetrize(xc):\n",
    "    \"\"\"\n",
    "    Symmetrize a cross-correlation.\n",
    "    \"\"\"\n",
    "    sym = obspy.Trace()\n",
    "    sym.data = _data_sym(xc.data)\n",
    "    sym.stats = _hd_sym(xc.stats, npts=sym.data.size)\n",
    "\n",
    "    return sym\n",
    "\n",
    "\n",
    "def cut_signal(tr, vmin=1.5, vmax=4.5, Tmax=100, cw=False):\n",
    "    \"\"\"\n",
    "    Cut signal defined by a velocity window.\n",
    "    \"\"\"\n",
    "    s = tr.copy()\n",
    "    delta = s.stats.delta\n",
    "    dist = s.stats.sac.dist\n",
    "    te = s.stats.npts * delta\n",
    "    if cw:\n",
    "        t1 = dist / vmin + Tmax\n",
    "        t2 = t1 + Tmax\n",
    "        t3 = te - Tmax\n",
    "        t4 = te\n",
    "    else:\n",
    "        t2 = max(0, dist / vmax - Tmax)\n",
    "        t1 = max(0, t2 - Tmax)\n",
    "        te = s.stats.npts * s.stats.delta\n",
    "        t3 = min(s.stats.npts * s.stats.delta, dist / vmin + Tmax)\n",
    "        t4 = min(te, t3 + Tmax)\n",
    "    \n",
    "#     print(dist, (t1, t2, t3, t4))\n",
    "    \n",
    "    taper = obspy.signal.invsim.cosine_taper(\n",
    "        npts=s.stats.npts,\n",
    "        freqs=np.arange(s.stats.npts) * delta,\n",
    "        flimit=(t1, t2, t3, t4),\n",
    "    )\n",
    "    s.data *= taper\n",
    "    \n",
    "    return s\n",
    "\n",
    "\n",
    "def correlation(tr1, tr2):\n",
    "    \"\"\"\n",
    "    Compute the correlation between two traces.\n",
    "    \"\"\"\n",
    "    stats = tr1.stats.copy()\n",
    "    stats.npts = tr1.stats.npts + tr2.stats.npts - 1\n",
    "    data = correlate(\n",
    "        tr1.data, tr2.data,\n",
    "        shift=tr1.stats.npts-1,\n",
    "    )\n",
    "    c = Trace(header=stats, data=data)\n",
    "    \n",
    "    return c\n",
    "\n",
    "\n",
    "def convolution(tr1, tr2):\n",
    "    \"\"\"\n",
    "    Compute the convolution between two traces.\n",
    "    \"\"\"\n",
    "    tr2_r = tr2.copy()\n",
    "    tr2_r.data = tr2.data[::-1]\n",
    "    c = correlation(tr1, tr2_r)\n",
    "    \n",
    "    return c\n",
    "\n",
    "\n",
    "def stack_stream(st):\n",
    "    \"\"\"\n",
    "    Normalize each trace in the `Stream` and stack them.\n",
    "    \"\"\"\n",
    "    data = 0\n",
    "    for tr in st:\n",
    "        a = tr.data\n",
    "        data += normalize(a)\n",
    "    nsrc = st.count()\n",
    "    data /= nsrc \n",
    "    \n",
    "    sk = Trace()\n",
    "    sk.data = data\n",
    "\n",
    "    sk.stats = st[0].stats.copy()\n",
    "    sk.stats.nsrc = nsrc\n",
    "\n",
    "    return sk\n",
    "\n",
    "\n",
    "def source_station_azimuth(lon_r1, lat_r1, lon_r2, lat_r2, lon_s, lat_s,\n",
    "                           geometry='hyp'):\n",
    "    \"\"\"\n",
    "    Compute the azimuth of a source-station.\n",
    "    \"\"\"\n",
    "    if geometry == 'hyp':\n",
    "        lon_c = (lon_r1 + lon_r2) / 2\n",
    "        lat_c = (lat_r1 + lat_r2) / 2\n",
    "        baz_cr = gps2dist_azimuth(lat2=lat_c, lon2=lon_c, lat1=lat_r1, lon1=lon_r1)[2]\n",
    "        baz_cs = gps2dist_azimuth(lat2=lat_c, lon2=lon_c, lat1=lat_s, lon1=lon_s)[2]\n",
    "\n",
    "        theta = (baz_cs - baz_cr) % 360\n",
    "\n",
    "    elif geometry == 'ell':\n",
    "        r1s = gps2dist_azimuth(lat1=lat_r1, lon1=lon_r1, lat2=lat_s, lon2=lon_s)[0] / 1e3\n",
    "        r2s = gps2dist_azimuth(lat1=lat_r2, lon1=lon_r2, lat2=lat_s, lon2=lon_s)[0] / 1e3\n",
    "        r12 = gps2dist_azimuth(lat1=lat_r1, lon1=lon_r1, lat2=lat_r2, lon2=lon_r2)[0] / 1e3\n",
    "\n",
    "        theta = np.rad2deg(np.arccos(r12 / (r1s+r2s)))\n",
    "\n",
    "    else:\n",
    "        raise ValueError\n",
    "\n",
    "    return theta\n",
    "    \n",
    "\n",
    "def source_specfic_interferometry(\n",
    "    src_to_I2_r1, src_to_I2_r2, meta,\n",
    "    lon_r1, lat_r1, lon_r2, lat_r2,\n",
    "    geometry='hyp', max_theta=8,\n",
    "):\n",
    "    \"\"\"\n",
    "    Compute source-specific three station interferogram. \n",
    "    \"\"\"\n",
    "    if geometry == 'hyp':\n",
    "        operator = correlation\n",
    "    elif geometry == 'ell':\n",
    "        operator = convolution\n",
    "    else:\n",
    "        raise ValueError\n",
    "        \n",
    "    C3_all = Stream()\n",
    "    C3_spz = Stream()\n",
    "    for src in (set(src_to_I2_r1.keys()) & set(src_to_I2_r2.keys())):\n",
    "        tr = operator(src_to_I2_r1[src], src_to_I2_r2[src])\n",
    "        m = meta[meta['sta'] == src]\n",
    "        \n",
    "        theta = source_station_azimuth(\n",
    "            lon_r1=lon_r1, lat_r1=lat_r1,\n",
    "            lon_r2=lon_r2, lat_r2=lat_r2,\n",
    "            lon_s=m['lon'].iloc[0],\n",
    "            lat_s=m['lat'].iloc[0],\n",
    "            geometry=geometry,\n",
    "        )\n",
    "        tr.stats.theta = theta\n",
    "        \n",
    "        C3_all += tr\n",
    "        if theta < max_theta:\n",
    "            C3_spz += tr\n",
    "    \n",
    "    return C3_all, C3_spz\n",
    "\n",
    "\n",
    "def plt_stream_vs_theta(st, scale=5, time=None, norm=True):\n",
    "    \"\"\"\n",
    "    Plot a record section of a Stream vs. source azimuth θ.\n",
    "    \"\"\"\n",
    "    if time is None:\n",
    "        time = st[0].times()\n",
    "\n",
    "    fig, ax = plt.subplots(figsize=(8, 6))\n",
    "    for tr in st:\n",
    "        a = tr.data\n",
    "        if norm:\n",
    "            a = normalize(a)\n",
    "        ax.plot(time, scale*a + tr.stats.theta, c='k', lw=.5)\n",
    "    \n",
    "    ax.set_xlabel('Time (s)')\n",
    "    ax.set_ylabel(r'$\\theta (^\\circ)}$')\n",
    "    \n",
    "    return ax\n",
    "\n",
    "\n",
    "def plt_mesh(st, time=None, Tmin=5, Tmax=150):\n",
    "    \"\"\"\n",
    "    Plot a record section as mesh.\n",
    "    \"\"\"\n",
    "    if time is None:\n",
    "        time = st[0].times()\n",
    "        \n",
    "    a = np.vstack([\n",
    "        normalize(\n",
    "            tr.copy().filter('bandpass', freqmax=1/Tmin, freqmin=1/Tmax, zerophase=True).data\n",
    "        )\n",
    "        for tr in st\n",
    "    ])\n",
    "    theta = [tr.stats.theta for tr in st]\n",
    "    \n",
    "    fig, ax = plt.subplots(figsize=(8, 6))\n",
    "    ax.pcolormesh(time, theta, a, cmap='RdBu', shading='gouraud')\n",
    "    ax.set_xlabel('Time (s)')\n",
    "    ax.set_ylabel(r'$\\theta (^\\circ)}$')\n",
    "    ax.text(.8, .9, rf'${Tmin} \\sim {Tmax}$ s', fontsize=12, transform=ax.transAxes)\n",
    "\n",
    "    return ax\n",
    "\n",
    "\n",
    "def plt_stack(I3_all, I3_spz, I2_ref, scale=.5, Tmin=5, Tmax=150):\n",
    "    \"\"\"\n",
    "    Plot stacked I3 vs. I2.\n",
    "    \"\"\"\n",
    "    fig, ax = plt.subplots()\n",
    "    for i, (tr, label, c) in enumerate(zip(\n",
    "        [I3_all, I2_ref, I3_spz],\n",
    "        [f'All ({I3_all.stats.nsrc})', r'$\\mathcal{I}_2$', f'SPZ ({I3_spz.stats.nsrc})'],\n",
    "        ['k', 'r', 'g'],\n",
    "    )):\n",
    "        ft = tr.copy()\n",
    "        ft.filter('bandpass', freqmax=1/Tmin, freqmin=1/Tmax, zerophase=True)\n",
    "        ax.plot(scale*normalize(ft.data) - i, c=c, label=label, lw=1)\n",
    "    ax.set_xlabel('Time (s)')\n",
    "    ax.legend(loc='lower right')\n",
    "    ax.tick_params(labelleft=False)\n",
    "    ax.text(.8, .9, rf'${Tmin} \\sim {Tmax}$ s', fontsize=12, transform=ax.transAxes)\n",
    "    ax.set_xlim(0, 1000)\n",
    "    \n",
    "    return ax\n"
   ]
  }
 ],
 "metadata": {
  "kernelspec": {
   "display_name": "Python 3 (ipykernel)",
   "language": "python",
   "name": "python3"
  },
  "language_info": {
   "codemirror_mode": {
    "name": "ipython",
    "version": 3
   },
   "file_extension": ".py",
   "mimetype": "text/x-python",
   "name": "python",
   "nbconvert_exporter": "python",
   "pygments_lexer": "ipython3",
   "version": "3.12.4"
  },
  "toc": {
   "base_numbering": 1,
   "nav_menu": {},
   "number_sections": false,
   "sideBar": true,
   "skip_h1_title": false,
   "title_cell": "Table of Contents",
   "title_sidebar": "Contents",
   "toc_cell": true,
   "toc_position": {
    "height": "calc(100% - 180px)",
    "left": "10px",
    "top": "150px",
    "width": "304px"
   },
   "toc_section_display": true,
   "toc_window_display": true
  }
 },
 "nbformat": 4,
 "nbformat_minor": 5
}
